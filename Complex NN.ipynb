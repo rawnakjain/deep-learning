{
 "cells": [
  {
   "metadata": {
    "ExecuteTime": {
     "end_time": "2025-07-22T17:09:49.869647Z",
     "start_time": "2025-07-22T17:09:49.864800Z"
    }
   },
   "cell_type": "code",
   "source": [
    "import math\n",
    "\n",
    "def sigmoid(z):\n",
    "    return 1.0 / (1.0 + math.exp(-z))\n",
    "\n",
    "def sigmoid_derivative(sigmoid_output):\n",
    "    return sigmoid_output * (1.0 - sigmoid_output)\n",
    "\n",
    "x1, x2 = 1.0, 2.0\n",
    "\n",
    "t = 1.0\n",
    "\n",
    "w1 = 0.10\n",
    "w2 = -0.30\n",
    "w3 = 0.50\n",
    "\n",
    "eta = 10.0\n",
    "epochs = 10\n",
    "\n",
    "for epoch in range(epochs):\n",
    "    z1 = w1*x1 + w2*x2 + w3\n",
    "    h1 = sigmoid(z1)\n",
    "\n",
    "    z2 = w3 * h1\n",
    "    y_hat = sigmoid(z2)\n",
    "\n",
    "    #Calculating Loss\n",
    "    loss = 0.5*(y_hat - t) ** 2\n",
    "\n",
    "    #Backprop with Chain Rule\n",
    "    dL_dy = y_hat - t\n",
    "\n",
    "    dy_dz2 = sigmoid_derivative(y_hat)\n",
    "\n",
    "    dL_dz2 = dy_dz2 * dL_dy\n",
    "\n",
    "    dL_dw3 = dL_dz2 * h1\n",
    "\n",
    "    dh1_dz1 = sigmoid_derivative(h1)\n",
    "\n",
    "    dL_dz1 = dL_dz2 * w3 * dh1_dz1\n",
    "\n",
    "    dL_dw1 = dL_dz1 * x1\n",
    "    dL_dw2 = dL_dz1 * x2\n",
    "\n",
    "    #Gradient Descent\n",
    "    w1 -= eta * dL_dw1\n",
    "    w2 -= eta * dL_dw2\n",
    "    w3 -= eta * dL_dw3\n",
    "\n",
    "    print(f\"Iteration {epoch+1:2d}: \"\n",
    "              f\"w1={w1:.5} , w2={w2:.5f} , w3={w3:.5f} \"\n",
    "              f\"y_hat={y_hat:.5f} \"\n",
    "              f\"loss={loss:8.3f}\"\n",
    "        )"
   ],
   "id": "1a0552e1ec04b837",
   "outputs": [
    {
     "name": "stdout",
     "output_type": "stream",
     "text": [
      "Iteration  1: w1=0.2347 , w2=-0.03059 , w3=1.03882 y_hat=0.56218 loss=   0.096\n",
      "Iteration  2: w1=0.35636 , w2=0.21273 , w3=1.54959 y_hat=0.69011 loss=   0.048\n",
      "Iteration  3: w1=0.39495 , w2=0.28989 , w3=1.83075 y_hat=0.80414 loss=   0.019\n",
      "Iteration  4: w1=0.41402 , w2=0.32803 , w3=2.01342 y_hat=0.84894 loss=   0.011\n",
      "Iteration  5: w1=0.42594 , w2=0.35187 , w3=2.14860 y_hat=0.87272 loss=   0.008\n",
      "Iteration  6: w1=0.43431 , w2=0.36863 , w3=2.25593 y_hat=0.88801 loss=   0.006\n",
      "Iteration  7: w1=0.44063 , w2=0.38126 , w3=2.34493 y_hat=0.89889 loss=   0.005\n",
      "Iteration  8: w1=0.44561 , w2=0.39123 , w3=2.42095 y_hat=0.90715 loss=   0.004\n",
      "Iteration  9: w1=0.44969 , w2=0.39937 , w3=2.48729 y_hat=0.91369 loss=   0.004\n",
      "Iteration 10: w1=0.4531 , w2=0.40619 , w3=2.54613 y_hat=0.91904 loss=   0.003\n"
     ]
    }
   ],
   "execution_count": 3
  }
 ],
 "metadata": {},
 "nbformat": 4,
 "nbformat_minor": 5
}
