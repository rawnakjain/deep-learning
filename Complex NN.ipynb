{
 "cells": [
  {
   "metadata": {},
   "cell_type": "code",
   "outputs": [],
   "execution_count": null,
   "source": [
    "import math\n",
    "\n",
    "def sigmoid(z):\n",
    "    return 1.0 / (1.0 + math.exp(-z))\n",
    "\n",
    "def sigmoid_derivative(sigmoid_output):\n",
    "    return sigmoid_output * (1.0 - sigmoid_output)\n",
    "\n",
    "x1, x2 = 1.0, 2.0\n",
    "\n",
    "t = 1.0\n",
    "\n",
    "w1 = 0.10\n",
    "w2 = -0.30\n",
    "w3 = 0.50\n",
    "\n",
    "eta = 0.01\n",
    "epochs = 10\n",
    "\n",
    "for epoch in range(epochs):\n",
    "    z1 = w1*x1 + w2*x2 + w3\n",
    "    h1 = sigmoid(z1)\n",
    "\n",
    "    z2 = w3 * h1\n",
    "    y_hat = sigmoid(z2)\n",
    "\n",
    "#Calculating Loss\n",
    "    loss = 0.5*(y_hat - t) ** 2"
   ],
   "id": "1a0552e1ec04b837"
  }
 ],
 "metadata": {},
 "nbformat": 4,
 "nbformat_minor": 5
}
