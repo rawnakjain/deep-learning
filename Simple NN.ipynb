{
 "cells": [
  {
   "cell_type": "code",
   "id": "initial_id",
   "metadata": {
    "collapsed": true,
    "ExecuteTime": {
     "end_time": "2025-07-22T13:01:38.046916Z",
     "start_time": "2025-07-22T13:01:37.877103Z"
    }
   },
   "source": "import numpy as np",
   "outputs": [],
   "execution_count": 2
  },
  {
   "metadata": {},
   "cell_type": "code",
   "outputs": [],
   "execution_count": null,
   "source": [
    "def forward_pass(x,w1,w2):\n",
    "    h = x*w1\n",
    "    y_hat = h*w2\n",
    "    return h, y_hat\n",
    "\n",
    "def mse_loss(y,y_hat):\n",
    "    return 0.5 * ((y - y_hat) ** 2)\n",
    "\n",
    "# Gradients (BackProp)\n",
    "def compute_gradients(x, w1, w2, y):\n",
    "    h, y_hat = forward_pass(x, w1, w2)\n",
    "    dL_dY_hat = (y_hat - y)\n",
    "    dL_dw2 = dL_dY_hat * h\n",
    "    dL_dw1 = dL_dY_hat * (x * w2)\n",
    "    return dL_dw1, dL_dw2\n",
    "\n",
    "def train_network(x, y, w1_init, w2_init, alpha=0.01, epochs=100):\n",
    "    w1, w2 = w1_init,  w2_init\n",
    "\n",
    "    for i in range(epochs):\n",
    "        h,y_hat = forward_pass(x, w1, w2)\n",
    "        loss_val = mse_loss(y, y_hat)\n",
    "\n",
    "        dL_dw1, dL_dw2 = compute_gradients(x, w1, w2, y)\n",
    "\n",
    "        print(f\"Iteration {i+1:2d}\"\n",
    "              f\"w1={w1:7.3f} w2={w2:7.3f}\"\n",
    "              f\"y_hat={y_hat:7.3f}\"\n",
    "              f\"loss={loss_val:8.3f}\"\n",
    "        )\n"
   ],
   "id": "65e206707c465088"
  }
 ],
 "metadata": {
  "kernelspec": {
   "display_name": "Python 3",
   "language": "python",
   "name": "python3"
  },
  "language_info": {
   "codemirror_mode": {
    "name": "ipython",
    "version": 2
   },
   "file_extension": ".py",
   "mimetype": "text/x-python",
   "name": "python",
   "nbconvert_exporter": "python",
   "pygments_lexer": "ipython2",
   "version": "2.7.6"
  }
 },
 "nbformat": 4,
 "nbformat_minor": 5
}
