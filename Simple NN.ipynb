{
 "cells": [
  {
   "cell_type": "code",
   "id": "initial_id",
   "metadata": {
    "collapsed": true,
    "ExecuteTime": {
     "end_time": "2025-07-22T13:01:38.046916Z",
     "start_time": "2025-07-22T13:01:37.877103Z"
    }
   },
   "source": "import numpy as np",
   "outputs": [],
   "execution_count": 2
  },
  {
   "metadata": {
    "ExecuteTime": {
     "end_time": "2025-07-22T13:38:36.294083Z",
     "start_time": "2025-07-22T13:38:36.285032Z"
    }
   },
   "cell_type": "code",
   "source": [
    "#Forwared Pass\n",
    "def forward_pass(x,w1,w2):\n",
    "    h = x*w1\n",
    "    y_hat = h*w2\n",
    "    return h, y_hat\n",
    "\n",
    "#Loss Function\n",
    "def mse_loss(y,y_hat):\n",
    "    return 0.5 * ((y - y_hat) ** 2)\n",
    "\n",
    "# Gradients (BackProp)\n",
    "def compute_gradients(x, w1, w2, y):\n",
    "    h, y_hat = forward_pass(x, w1, w2)\n",
    "    dL_dY_hat = (y_hat - y)\n",
    "    dL_dw2 = dL_dY_hat * h\n",
    "    dL_dw1 = dL_dY_hat * (x * w2)\n",
    "    return dL_dw1, dL_dw2\n",
    "\n",
    "#Training Loop\n",
    "def train_network(x, y, w1_init, w2_init, alpha=0.01, epochs=10):\n",
    "    w1, w2 = w1_init,  w2_init\n",
    "\n",
    "    for i in range(epochs):\n",
    "        h,y_hat = forward_pass(x, w1, w2)\n",
    "        loss_val = mse_loss(y, y_hat)\n",
    "\n",
    "        dL_dw1, dL_dw2 = compute_gradients(x, w1, w2, y)\n",
    "\n",
    "        print(f\"Iteration {i+1:2d}: \"\n",
    "              f\"w1={w1:7.3f}, w2={w2:7.3f} \"\n",
    "              f\"y_hat={y_hat:7.3f}\"\n",
    "              f\"loss={loss_val:8.3f}\"\n",
    "        )\n",
    "\n",
    "        #Gradient Descent\n",
    "        w1-=alpha*dL_dw1\n",
    "        w2-=alpha*dL_dw2\n",
    "    return w1, w2\n",
    "\n",
    "if __name__ == \"__main__\":\n",
    "\n",
    "    x = 2.0\n",
    "    y =20.0\n",
    "\n",
    "    w1_init = 2.0\n",
    "    w2_init = 0.5\n",
    "\n",
    "    alpha = 0.01\n",
    "\n",
    "    w1_final, w2_final = train_network(x, y, w1_init, w2_init, alpha)\n",
    "\n",
    "    print(\"Training Completed\")"
   ],
   "id": "65e206707c465088",
   "outputs": [
    {
     "name": "stdout",
     "output_type": "stream",
     "text": [
      "Iteration  1: w1=  2.000, w2=  0.500 y_hat=  2.000loss= 162.000\n",
      "Iteration  2: w1=  2.180, w2=  1.220 y_hat=  5.319loss= 107.763\n",
      "Iteration  3: w1=  2.538, w2=  1.860 y_hat=  9.443loss=  55.730\n",
      "Iteration  4: w1=  2.931, w2=  2.396 y_hat= 14.045loss=  17.729\n",
      "Iteration  5: w1=  3.216, w2=  2.745 y_hat= 17.658loss=   2.742\n",
      "Iteration  6: w1=  3.345, w2=  2.896 y_hat= 19.372loss=   0.197\n",
      "Iteration  7: w1=  3.381, w2=  2.938 y_hat= 19.867loss=   0.009\n",
      "Iteration  8: w1=  3.389, w2=  2.947 y_hat= 19.974loss=   0.000\n",
      "Iteration  9: w1=  3.391, w2=  2.949 y_hat= 19.995loss=   0.000\n",
      "Iteration 10: w1=  3.391, w2=  2.949 y_hat= 19.999loss=   0.000\n",
      "Training Completed\n"
     ]
    }
   ],
   "execution_count": 4
  }
 ],
 "metadata": {
  "kernelspec": {
   "display_name": "Python 3",
   "language": "python",
   "name": "python3"
  },
  "language_info": {
   "codemirror_mode": {
    "name": "ipython",
    "version": 2
   },
   "file_extension": ".py",
   "mimetype": "text/x-python",
   "name": "python",
   "nbconvert_exporter": "python",
   "pygments_lexer": "ipython2",
   "version": "2.7.6"
  }
 },
 "nbformat": 4,
 "nbformat_minor": 5
}
